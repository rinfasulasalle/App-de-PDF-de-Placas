{
 "cells": [
  {
   "cell_type": "code",
   "execution_count": 1,
   "id": "d730f93e",
   "metadata": {},
   "outputs": [
    {
     "name": "stdout",
     "output_type": "stream",
     "text": [
      "Collecting reportlab\n",
      "  Downloading reportlab-4.0.4-py3-none-any.whl (1.9 MB)\n",
      "                                              0.0/1.9 MB ? eta -:--:--\n",
      "     ----                                     0.2/1.9 MB 5.9 MB/s eta 0:00:01\n",
      "     ---------                                0.5/1.9 MB 5.9 MB/s eta 0:00:01\n",
      "     ---------------                          0.7/1.9 MB 6.7 MB/s eta 0:00:01\n",
      "     ---------------------                    1.0/1.9 MB 6.0 MB/s eta 0:00:01\n",
      "     ------------------------------           1.5/1.9 MB 6.6 MB/s eta 0:00:01\n",
      "     -----------------------------------      1.7/1.9 MB 6.4 MB/s eta 0:00:01\n",
      "     ---------------------------------------- 1.9/1.9 MB 6.1 MB/s eta 0:00:00\n",
      "Requirement already satisfied: pillow>=9.0.0 in c:\\users\\xxdan\\appdata\\local\\programs\\python\\python311\\lib\\site-packages (from reportlab) (9.5.0)\n",
      "Installing collected packages: reportlab\n",
      "Successfully installed reportlab-4.0.4\n"
     ]
    },
    {
     "name": "stderr",
     "output_type": "stream",
     "text": [
      "\n",
      "[notice] A new release of pip is available: 23.1.2 -> 23.2.1\n",
      "[notice] To update, run: python.exe -m pip install --upgrade pip\n"
     ]
    }
   ],
   "source": [
    "!pip install reportlab"
   ]
  },
  {
   "cell_type": "code",
   "execution_count": 2,
   "id": "6c706ffa",
   "metadata": {},
   "outputs": [
    {
     "name": "stdout",
     "output_type": "stream",
     "text": [
      "PDF generation completed.\n"
     ]
    }
   ],
   "source": [
    "import random\n",
    "from reportlab.pdfgen import canvas\n",
    "\n",
    "def generate_pdf(filename):\n",
    "    c = canvas.Canvas(filename)\n",
    "    c.save()\n",
    "\n",
    "def generate_pdfs():\n",
    "    identifiers = set()  # Usamos un conjunto para asegurar identificadores únicos\n",
    "    while len(identifiers) < 5:\n",
    "        identifier = f\"{chr(random.randint(65, 90))}{chr(random.randint(65, 90))}-{random.randint(1000, 9999)}\"\n",
    "        identifiers.add(identifier)\n",
    "\n",
    "    last_digits = list(range(1, 6))\n",
    "\n",
    "    for identifier in identifiers:\n",
    "        for last_digit in last_digits:\n",
    "            filename = f\"{identifier}-{last_digit}.pdf\"\n",
    "            generate_pdf(filename)\n",
    "\n",
    "if __name__ == \"__main__\":\n",
    "    generate_pdfs()\n",
    "    print(\"PDF generation completed.\")\n"
   ]
  },
  {
   "cell_type": "code",
   "execution_count": null,
   "id": "85a2d8ee",
   "metadata": {},
   "outputs": [],
   "source": []
  }
 ],
 "metadata": {
  "kernelspec": {
   "display_name": "Python 3 (ipykernel)",
   "language": "python",
   "name": "python3"
  },
  "language_info": {
   "codemirror_mode": {
    "name": "ipython",
    "version": 3
   },
   "file_extension": ".py",
   "mimetype": "text/x-python",
   "name": "python",
   "nbconvert_exporter": "python",
   "pygments_lexer": "ipython3",
   "version": "3.11.4"
  }
 },
 "nbformat": 4,
 "nbformat_minor": 5
}
